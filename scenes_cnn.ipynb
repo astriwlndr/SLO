{
  "nbformat": 4,
  "nbformat_minor": 0,
  "metadata": {
    "kernelspec": {
      "name": "python3",
      "display_name": "Python 3"
    },
    "language_info": {
      "codemirror_mode": {
        "name": "ipython",
        "version": 3
      },
      "file_extension": ".py",
      "mimetype": "text/x-python",
      "name": "python",
      "nbconvert_exporter": "python",
      "pygments_lexer": "ipython3",
      "version": "3.7.4"
    },
    "colab": {
      "name": "scenes_cnn.ipynb",
      "provenance": [],
      "collapsed_sections": [],
      "include_colab_link": true
    },
    "accelerator": "GPU"
  },
  "cells": [
    {
      "cell_type": "markdown",
      "metadata": {
        "id": "view-in-github",
        "colab_type": "text"
      },
      "source": [
        "<a href=\"https://colab.research.google.com/github/syamsulrizal123/SLO/blob/main/scenes_cnn.ipynb\" target=\"_parent\"><img src=\"https://colab.research.google.com/assets/colab-badge.svg\" alt=\"Open In Colab\"/></a>"
      ]
    },
    {
      "cell_type": "code",
      "metadata": {
        "colab": {
          "base_uri": "https://localhost:8080/"
        },
        "id": "xyiyd0kMooXM",
        "outputId": "38c323ef-d431-475d-ea36-ea4a37386d22"
      },
      "source": [
        "from google.colab import drive\n",
        "drive.mount('/content/drive')"
      ],
      "execution_count": 1,
      "outputs": [
        {
          "output_type": "stream",
          "text": [
            "Mounted at /content/drive\n"
          ],
          "name": "stdout"
        }
      ]
    },
    {
      "cell_type": "code",
      "metadata": {
        "id": "H215ikbNVVZS",
        "colab": {
          "base_uri": "https://localhost:8080/"
        },
        "outputId": "19d08d3e-9d0e-47cc-8f12-796bda61db1e"
      },
      "source": [
        "cd /content/drive/MyDrive/Colab Notebooks (1)"
      ],
      "execution_count": 2,
      "outputs": [
        {
          "output_type": "stream",
          "text": [
            "/content/drive/MyDrive/Colab Notebooks (1)\n"
          ],
          "name": "stdout"
        }
      ]
    },
    {
      "cell_type": "code",
      "metadata": {
        "id": "5IGm26ZzVGBs"
      },
      "source": [
        "# import the necessary packages\n",
        "from keras.models import Sequential\n",
        "from keras.layers.core import Activation\n",
        "from keras.layers.core import Flatten\n",
        "from keras.layers.core import Dense\n",
        "from keras.optimizers import Adam\n",
        "from sklearn.preprocessing import LabelBinarizer\n",
        "from sklearn.model_selection import train_test_split\n",
        "from sklearn.metrics import classification_report\n",
        "from PIL import Image\n",
        "from imutils import paths\n",
        "import numpy as np\n",
        "import os"
      ],
      "execution_count": 5,
      "outputs": []
    },
    {
      "cell_type": "code",
      "metadata": {
        "id": "0-5PXYTsVGBw",
        "colab": {
          "base_uri": "https://localhost:8080/"
        },
        "outputId": "34684562-f988-41eb-8ed9-8a907553a267"
      },
      "source": [
        "# grab all image paths in the input dataset directory, then initialize\n",
        "# our list of images and corresponding class labels\n",
        "print(\"[INFO] loading images...\")\n",
        "imagePaths = paths.list_images(\"3scene\")\n",
        "data = []\n",
        "labels = []"
      ],
      "execution_count": 17,
      "outputs": [
        {
          "output_type": "stream",
          "text": [
            "[INFO] loading images...\n"
          ],
          "name": "stdout"
        }
      ]
    },
    {
      "cell_type": "code",
      "metadata": {
        "id": "9Q-KXSsGVGB0"
      },
      "source": [
        "# loop over our input images\n",
        "for imagePath in imagePaths:\n",
        "\t# load the input image from disk, resize it to 64x64 pixels, scale\n",
        "\t# the pixel intensities to the range [0, 1], and then update our\n",
        "\t# images list\n",
        "\timage = Image.open(imagePath)\n",
        "  #preprocessing\n",
        "\timage = np.array(image.resize((224, 224))) / 255.0 #normalisasi\n",
        "\tdata.append(image)\n",
        "\n",
        "\t# extract the class label from the file path and update the\n",
        "\t# labels list\n",
        "\tlabel = imagePath.split(os.path.sep)[-2]\n",
        "\tlabels.append(label)"
      ],
      "execution_count": 18,
      "outputs": []
    },
    {
      "cell_type": "code",
      "metadata": {
        "id": "Rzbolh88VGB2",
        "colab": {
          "base_uri": "https://localhost:8080/"
        },
        "outputId": "c077485f-0de0-4d5b-f1c8-d273b30617ab"
      },
      "source": [
        "print(labels)"
      ],
      "execution_count": null,
      "outputs": [
        {
          "output_type": "stream",
          "text": [
            "['forest', 'forest', 'forest', 'forest', 'forest', 'forest', 'forest', 'forest', 'forest', 'forest', 'forest', 'forest', 'forest', 'forest', 'forest', 'forest', 'forest', 'forest', 'forest', 'forest', 'forest', 'forest', 'forest', 'forest', 'forest', 'forest', 'forest', 'forest', 'forest', 'forest', 'forest', 'forest', 'forest', 'forest', 'forest', 'forest', 'forest', 'forest', 'forest', 'forest', 'forest', 'forest', 'forest', 'forest', 'forest', 'forest', 'forest', 'forest', 'forest', 'forest', 'forest', 'forest', 'forest', 'forest', 'forest', 'forest', 'forest', 'forest', 'forest', 'forest', 'forest', 'forest', 'forest', 'forest', 'forest', 'forest', 'forest', 'forest', 'forest', 'forest', 'forest', 'forest', 'forest', 'forest', 'forest', 'forest', 'forest', 'forest', 'forest', 'forest', 'forest', 'forest', 'forest', 'forest', 'forest', 'forest', 'forest', 'forest', 'forest', 'forest', 'forest', 'forest', 'forest', 'forest', 'forest', 'forest', 'forest', 'forest', 'forest', 'forest', 'forest', 'forest', 'forest', 'forest', 'forest', 'forest', 'forest', 'forest', 'forest', 'forest', 'forest', 'forest', 'forest', 'forest', 'forest', 'forest', 'forest', 'forest', 'forest', 'forest', 'forest', 'forest', 'forest', 'forest', 'forest', 'forest', 'forest', 'forest', 'forest', 'forest', 'forest', 'forest', 'forest', 'forest', 'forest', 'forest', 'forest', 'forest', 'forest', 'forest', 'forest', 'forest', 'forest', 'forest', 'forest', 'forest', 'forest', 'forest', 'forest', 'forest', 'forest', 'forest', 'forest', 'forest', 'forest', 'forest', 'forest', 'forest', 'forest', 'forest', 'forest', 'forest', 'forest', 'forest', 'forest', 'forest', 'forest', 'forest', 'forest', 'forest', 'forest', 'forest', 'forest', 'forest', 'forest', 'forest', 'forest', 'forest', 'forest', 'forest', 'forest', 'forest', 'forest', 'forest', 'forest', 'forest', 'forest', 'forest', 'forest', 'forest', 'forest', 'forest', 'forest', 'forest', 'forest', 'forest', 'forest', 'forest', 'forest', 'forest', 'forest', 'forest', 'forest', 'forest', 'forest', 'forest', 'forest', 'forest', 'forest', 'forest', 'forest', 'forest', 'forest', 'forest', 'forest', 'forest', 'forest', 'forest', 'forest', 'forest', 'forest', 'forest', 'forest', 'forest', 'forest', 'forest', 'forest', 'forest', 'forest', 'forest', 'forest', 'forest', 'forest', 'forest', 'forest', 'forest', 'forest', 'forest', 'forest', 'forest', 'forest', 'forest', 'forest', 'forest', 'forest', 'forest', 'forest', 'forest', 'forest', 'forest', 'forest', 'forest', 'forest', 'forest', 'forest', 'forest', 'forest', 'forest', 'forest', 'forest', 'forest', 'forest', 'forest', 'forest', 'forest', 'forest', 'forest', 'forest', 'forest', 'forest', 'forest', 'forest', 'forest', 'forest', 'forest', 'forest', 'forest', 'forest', 'forest', 'forest', 'forest', 'forest', 'forest', 'forest', 'forest', 'forest', 'forest', 'forest', 'forest', 'forest', 'forest', 'forest', 'forest', 'forest', 'forest', 'forest', 'forest', 'forest', 'forest', 'forest', 'forest', 'forest', 'forest', 'forest', 'forest', 'forest', 'forest', 'forest', 'forest', 'forest', 'forest', 'forest', 'forest', 'forest', 'forest', 'forest', 'forest', 'forest', 'forest', 'forest', 'forest', 'forest', 'forest', 'forest', 'forest', 'forest', 'forest', 'forest', 'highway', 'highway', 'highway', 'highway', 'highway', 'highway', 'highway', 'highway', 'highway', 'highway', 'highway', 'highway', 'highway', 'highway', 'highway', 'highway', 'highway', 'highway', 'highway', 'highway', 'highway', 'highway', 'highway', 'highway', 'highway', 'highway', 'highway', 'highway', 'highway', 'highway', 'highway', 'highway', 'highway', 'highway', 'highway', 'highway', 'highway', 'highway', 'highway', 'highway', 'highway', 'highway', 'highway', 'highway', 'highway', 'highway', 'highway', 'highway', 'highway', 'highway', 'highway', 'highway', 'highway', 'highway', 'highway', 'highway', 'highway', 'highway', 'highway', 'highway', 'highway', 'highway', 'highway', 'highway', 'highway', 'highway', 'highway', 'highway', 'highway', 'highway', 'highway', 'highway', 'highway', 'highway', 'highway', 'highway', 'highway', 'highway', 'highway', 'highway', 'highway', 'highway', 'highway', 'highway', 'highway', 'highway', 'highway', 'highway', 'highway', 'highway', 'highway', 'highway', 'highway', 'highway', 'highway', 'highway', 'highway', 'highway', 'highway', 'highway', 'highway', 'highway', 'highway', 'highway', 'highway', 'highway', 'highway', 'highway', 'highway', 'highway', 'highway', 'highway', 'highway', 'highway', 'highway', 'highway', 'highway', 'highway', 'highway', 'highway', 'highway', 'highway', 'highway', 'highway', 'highway', 'highway', 'highway', 'highway', 'highway', 'highway', 'highway', 'highway', 'highway', 'highway', 'highway', 'highway', 'highway', 'highway', 'highway', 'highway', 'highway', 'highway', 'highway', 'highway', 'highway', 'highway', 'highway', 'highway', 'highway', 'highway', 'highway', 'highway', 'highway', 'highway', 'highway', 'highway', 'highway', 'highway', 'highway', 'highway', 'highway', 'highway', 'highway', 'highway', 'highway', 'highway', 'highway', 'highway', 'highway', 'highway', 'highway', 'highway', 'highway', 'highway', 'highway', 'highway', 'highway', 'highway', 'highway', 'highway', 'highway', 'highway', 'highway', 'highway', 'highway', 'highway', 'highway', 'highway', 'highway', 'highway', 'highway', 'highway', 'highway', 'highway', 'highway', 'highway', 'highway', 'highway', 'highway', 'highway', 'highway', 'highway', 'highway', 'highway', 'highway', 'highway', 'highway', 'highway', 'highway', 'highway', 'highway', 'highway', 'highway', 'highway', 'highway', 'highway', 'highway', 'highway', 'highway', 'highway', 'highway', 'highway', 'highway', 'highway', 'highway', 'highway', 'highway', 'highway', 'highway', 'highway', 'highway', 'highway', 'highway', 'highway', 'highway', 'highway', 'highway', 'highway', 'highway', 'highway', 'highway', 'highway', 'highway', 'highway', 'highway', 'highway', 'highway', 'highway', 'highway', 'highway', 'highway', 'highway', 'highway', 'highway', 'highway', 'highway', 'highway', 'highway', 'highway', 'highway', 'coast', 'coast', 'coast', 'coast', 'coast', 'coast', 'coast', 'coast', 'coast', 'coast', 'coast', 'coast', 'coast', 'coast', 'coast', 'coast', 'coast', 'coast', 'coast', 'coast', 'coast', 'coast', 'coast', 'coast', 'coast', 'coast', 'coast', 'coast', 'coast', 'coast', 'coast', 'coast', 'coast', 'coast', 'coast', 'coast', 'coast', 'coast', 'coast', 'coast', 'coast', 'coast', 'coast', 'coast', 'coast', 'coast', 'coast', 'coast', 'coast', 'coast', 'coast', 'coast', 'coast', 'coast', 'coast', 'coast', 'coast', 'coast', 'coast', 'coast', 'coast', 'coast', 'coast', 'coast', 'coast', 'coast', 'coast', 'coast', 'coast', 'coast', 'coast', 'coast', 'coast', 'coast', 'coast', 'coast', 'coast', 'coast', 'coast', 'coast', 'coast', 'coast', 'coast', 'coast', 'coast', 'coast', 'coast', 'coast', 'coast', 'coast', 'coast', 'coast', 'coast', 'coast', 'coast', 'coast', 'coast', 'coast', 'coast', 'coast', 'coast', 'coast', 'coast', 'coast', 'coast', 'coast', 'coast', 'coast', 'coast', 'coast', 'coast', 'coast', 'coast', 'coast', 'coast', 'coast', 'coast', 'coast', 'coast', 'coast', 'coast', 'coast', 'coast', 'coast', 'coast', 'coast', 'coast', 'coast', 'coast', 'coast', 'coast', 'coast', 'coast', 'coast', 'coast', 'coast', 'coast', 'coast', 'coast', 'coast', 'coast', 'coast', 'coast', 'coast', 'coast', 'coast', 'coast', 'coast', 'coast', 'coast', 'coast', 'coast', 'coast', 'coast', 'coast', 'coast', 'coast', 'coast', 'coast', 'coast', 'coast', 'coast', 'coast', 'coast', 'coast', 'coast', 'coast', 'coast', 'coast', 'coast', 'coast', 'coast', 'coast', 'coast', 'coast', 'coast', 'coast', 'coast', 'coast', 'coast', 'coast', 'coast', 'coast', 'coast', 'coast', 'coast', 'coast', 'coast', 'coast', 'coast', 'coast', 'coast', 'coast', 'coast', 'coast', 'coast', 'coast', 'coast', 'coast', 'coast', 'coast', 'coast', 'coast', 'coast', 'coast', 'coast', 'coast', 'coast', 'coast', 'coast', 'coast', 'coast', 'coast', 'coast', 'coast', 'coast', 'coast', 'coast', 'coast', 'coast', 'coast', 'coast', 'coast', 'coast', 'coast', 'coast', 'coast', 'coast', 'coast', 'coast', 'coast', 'coast', 'coast', 'coast', 'coast', 'coast', 'coast', 'coast', 'coast', 'coast', 'coast', 'coast', 'coast', 'coast', 'coast', 'coast', 'coast', 'coast', 'coast', 'coast', 'coast', 'coast', 'coast', 'coast', 'coast', 'coast', 'coast', 'coast', 'coast', 'coast', 'coast', 'coast', 'coast', 'coast', 'coast', 'coast', 'coast', 'coast', 'coast', 'coast', 'coast', 'coast', 'coast', 'coast', 'coast', 'coast', 'coast', 'coast', 'coast', 'coast', 'coast', 'coast', 'coast', 'coast', 'coast', 'coast', 'coast', 'coast', 'coast', 'coast', 'coast', 'coast', 'coast', 'coast', 'coast', 'coast', 'coast', 'coast', 'coast', 'coast', 'coast', 'coast', 'coast', 'coast', 'coast', 'coast', 'coast', 'coast', 'coast', 'coast', 'coast', 'coast', 'coast', 'coast', 'coast', 'coast', 'coast', 'coast', 'coast', 'coast', 'coast', 'coast', 'coast', 'coast', 'coast', 'coast', 'coast', 'coast', 'coast', 'coast', 'coast', 'coast', 'coast', 'coast', 'coast', 'coast', 'coast', 'coast', 'coast', 'coast', 'coast', 'coast', 'coast', 'coast', 'coast', 'coast', 'coast', 'coast', 'coast', 'coast', 'coast', 'coast', 'coast', 'coast', 'coast', 'coast', 'coast', 'coast', 'coast', 'coast']\n"
          ],
          "name": "stdout"
        }
      ]
    },
    {
      "cell_type": "code",
      "metadata": {
        "id": "twd1IeuKVGB5"
      },
      "source": [
        "# encode the labels, converting them from strings to integers\n",
        "lb = LabelBinarizer()\n",
        "labels = lb.fit_transform(labels)"
      ],
      "execution_count": 19,
      "outputs": []
    },
    {
      "cell_type": "code",
      "metadata": {
        "id": "5FPCyIqcVGB7"
      },
      "source": [
        "print(labels)"
      ],
      "execution_count": null,
      "outputs": []
    },
    {
      "cell_type": "code",
      "metadata": {
        "id": "ktZ5hNYwVGB9",
        "colab": {
          "base_uri": "https://localhost:8080/"
        },
        "outputId": "193a9d17-a254-433f-db33-7be21062c895"
      },
      "source": [
        "# perform a training and testing split, using 75% of the data for\n",
        "# training and 25% for evaluation\n",
        "(trainX, testX, trainY, testY) = train_test_split(np.array(data),\tnp.array(labels), test_size=0.25, shuffle=True)\n",
        "print(trainX.shape)\n",
        "print(testX.shape)"
      ],
      "execution_count": 20,
      "outputs": [
        {
          "output_type": "stream",
          "text": [
            "(711, 224, 224, 3)\n",
            "(237, 224, 224, 3)\n"
          ],
          "name": "stdout"
        }
      ]
    },
    {
      "cell_type": "code",
      "metadata": {
        "id": "S15OeeJ-lktF"
      },
      "source": [
        "from keras.applications.mobilenet import MobileNet\n",
        "from keras.applications.resnet import ResNet50\n",
        "from keras.callbacks import EarlyStopping, ModelCheckpoint\n",
        "from keras.models import Model\n",
        "from keras.layers import GlobalAveragePooling2D, BatchNormalization, Dropout\n",
        "\n",
        "base_model = MobileNet(weights='imagenet', include_top=False, input_shape=(224,224,3))\n",
        "x = base_model.output\n",
        "x = GlobalAveragePooling2D()(x)\n",
        "x = Dropout(0.5)(x)\n",
        "x = BatchNormalization()(x)\n",
        "x = Dense(512, activation='relu')(x)\n",
        "x = Dropout(0.5)(x)\n",
        "x = BatchNormalization()(x)\n",
        "x = Dense(100, activation='relu')(x)\n",
        "x = Dropout(0.5)(x)\n",
        "out = Dense(3, activation='softmax')(x)\n",
        "\n",
        "model = Model(inputs=base_model.input, outputs=out)\n",
        "model.summary()"
      ],
      "execution_count": null,
      "outputs": []
    },
    {
      "cell_type": "code",
      "metadata": {
        "id": "MciAbPA3lsdA"
      },
      "source": [
        "es = EarlyStopping(monitor='val_loss',\n",
        "                   patience=5,\n",
        "                   mode='auto',\n",
        "                   restore_best_weights=True)\n",
        "checkpoint = ModelCheckpoint('best_weight_scene_mobileNet.h5',\n",
        "                             monitor='val_loss',\n",
        "                             verbose=1,\n",
        "                             save_best_only=True,\n",
        "                             mode='auto',)"
      ],
      "execution_count": 25,
      "outputs": []
    },
    {
      "cell_type": "code",
      "metadata": {
        "id": "MSxR7GLQvrUP"
      },
      "source": [
        "#masukan model CNN \n",
        "from keras.layers import Convolution2D, MaxPooling2D\n",
        "from keras.models import Sequential\n",
        "\n",
        "model = Sequential()\n",
        "model.add(Convolution2D(8, (3, 3), activation='relu', input_shape=(224,224,3)))\n",
        "model.add(MaxPooling2D(2,2))\n",
        "model.add(Convolution2D(16, (3, 3), activation='relu'))\n",
        "model.add(MaxPooling2D(2,2))\n",
        "#fully connected layer\n",
        "model.add(Flatten())\n",
        "model.add(Dense(100, activation='relu'))\n",
        "model.add(Dense(3, activation='softmax'))\n",
        "\n",
        "model.summary()"
      ],
      "execution_count": null,
      "outputs": []
    },
    {
      "cell_type": "code",
      "metadata": {
        "id": "I6AwvHQgXEWK",
        "colab": {
          "base_uri": "https://localhost:8080/"
        },
        "outputId": "881083c7-f04f-49e6-cabc-1dccdafb3631"
      },
      "source": [
        "model2 = Sequential()\n",
        "model2.add(Convolution2D(16, (3, 3), activation='relu', input_shape=(224,224,3)))\n",
        "model2.add(MaxPooling2D(2,2))\n",
        "model2.add(Convolution2D(32, (3, 3), activation='relu'))\n",
        "model2.add(MaxPooling2D(2,2))\n",
        "#fully connected layer\n",
        "model2.add(Flatten())\n",
        "model2.add(Dense(100, activation='relu'))\n",
        "model2.add(Dense(10, activation='relu'))\n",
        "model2.add(Dense(3, activation='softmax'))\n",
        "\n",
        "model2.summary()"
      ],
      "execution_count": 38,
      "outputs": [
        {
          "output_type": "stream",
          "text": [
            "Model: \"sequential_4\"\n",
            "_________________________________________________________________\n",
            "Layer (type)                 Output Shape              Param #   \n",
            "=================================================================\n",
            "conv2d_8 (Conv2D)            (None, 222, 222, 16)      448       \n",
            "_________________________________________________________________\n",
            "max_pooling2d_8 (MaxPooling2 (None, 111, 111, 16)      0         \n",
            "_________________________________________________________________\n",
            "conv2d_9 (Conv2D)            (None, 109, 109, 32)      4640      \n",
            "_________________________________________________________________\n",
            "max_pooling2d_9 (MaxPooling2 (None, 54, 54, 32)        0         \n",
            "_________________________________________________________________\n",
            "flatten_4 (Flatten)          (None, 93312)             0         \n",
            "_________________________________________________________________\n",
            "dense_14 (Dense)             (None, 100)               9331300   \n",
            "_________________________________________________________________\n",
            "dense_15 (Dense)             (None, 10)                1010      \n",
            "_________________________________________________________________\n",
            "dense_16 (Dense)             (None, 3)                 33        \n",
            "=================================================================\n",
            "Total params: 9,337,431\n",
            "Trainable params: 9,337,431\n",
            "Non-trainable params: 0\n",
            "_________________________________________________________________\n"
          ],
          "name": "stdout"
        }
      ]
    },
    {
      "cell_type": "code",
      "metadata": {
        "scrolled": true,
        "id": "ggcSdj_aVGCB",
        "colab": {
          "base_uri": "https://localhost:8080/"
        },
        "outputId": "ed31946e-46e8-445b-ac57-fbcb78b19a30"
      },
      "source": [
        "# train the model using the Adam optimizer\n",
        "print(\"[INFO] training network...\")\n",
        "opt = Adam(lr=1e-3, decay=1e-3 / 50)\n",
        "model.compile(loss=\"categorical_crossentropy\", optimizer=opt, metrics=[\"accuracy\"])"
      ],
      "execution_count": 48,
      "outputs": [
        {
          "output_type": "stream",
          "text": [
            "[INFO] training network...\n"
          ],
          "name": "stdout"
        }
      ]
    },
    {
      "cell_type": "code",
      "metadata": {
        "colab": {
          "base_uri": "https://localhost:8080/"
        },
        "id": "3bbMakb0w-XZ",
        "outputId": "3f1ef9e3-1658-4665-c9b8-f0d659fce27d"
      },
      "source": [
        "H = model.fit(trainX, trainY, validation_data=(testX, testY), epochs=50, batch_size=32, shuffle=True)\n",
        "# H = model.fit(trainX, trainY, validation_data=(testX, testY), epochs=50, batch_size=32, callbacks=[es, checkpoint])"
      ],
      "execution_count": 49,
      "outputs": [
        {
          "output_type": "stream",
          "text": [
            "Epoch 1/50\n",
            "23/23 [==============================] - 7s 210ms/step - loss: 0.9007 - accuracy: 0.6471 - val_loss: 0.8719 - val_accuracy: 0.8017\n",
            "Epoch 2/50\n",
            "23/23 [==============================] - 4s 188ms/step - loss: 0.0673 - accuracy: 0.9772 - val_loss: 0.1270 - val_accuracy: 0.9747\n",
            "Epoch 3/50\n",
            "23/23 [==============================] - 4s 188ms/step - loss: 0.0685 - accuracy: 0.9734 - val_loss: 0.1856 - val_accuracy: 0.9451\n",
            "Epoch 4/50\n",
            "23/23 [==============================] - 4s 188ms/step - loss: 0.0958 - accuracy: 0.9683 - val_loss: 0.1113 - val_accuracy: 0.9789\n",
            "Epoch 5/50\n",
            "23/23 [==============================] - 4s 191ms/step - loss: 0.1006 - accuracy: 0.9633 - val_loss: 1.8984 - val_accuracy: 0.6034\n",
            "Epoch 6/50\n",
            "23/23 [==============================] - 4s 190ms/step - loss: 0.1358 - accuracy: 0.9500 - val_loss: 3.8010 - val_accuracy: 0.5612\n",
            "Epoch 7/50\n",
            "23/23 [==============================] - 4s 191ms/step - loss: 0.0436 - accuracy: 0.9901 - val_loss: 1.7569 - val_accuracy: 0.7384\n",
            "Epoch 8/50\n",
            "23/23 [==============================] - 4s 192ms/step - loss: 0.1242 - accuracy: 0.9715 - val_loss: 0.5490 - val_accuracy: 0.8945\n",
            "Epoch 9/50\n",
            "23/23 [==============================] - 4s 190ms/step - loss: 0.0509 - accuracy: 0.9846 - val_loss: 0.6150 - val_accuracy: 0.9367\n",
            "Epoch 10/50\n",
            "23/23 [==============================] - 4s 190ms/step - loss: 0.0156 - accuracy: 0.9944 - val_loss: 0.4831 - val_accuracy: 0.9409\n",
            "Epoch 11/50\n",
            "23/23 [==============================] - 4s 192ms/step - loss: 0.0426 - accuracy: 0.9847 - val_loss: 0.2517 - val_accuracy: 0.9705\n",
            "Epoch 12/50\n",
            "23/23 [==============================] - 4s 192ms/step - loss: 0.0451 - accuracy: 0.9825 - val_loss: 0.1427 - val_accuracy: 0.9831\n",
            "Epoch 13/50\n",
            "23/23 [==============================] - 4s 192ms/step - loss: 0.0675 - accuracy: 0.9795 - val_loss: 0.2573 - val_accuracy: 0.9662\n",
            "Epoch 14/50\n",
            "23/23 [==============================] - 4s 191ms/step - loss: 0.0215 - accuracy: 0.9942 - val_loss: 0.2656 - val_accuracy: 0.9747\n",
            "Epoch 15/50\n",
            "23/23 [==============================] - 4s 192ms/step - loss: 0.0365 - accuracy: 0.9890 - val_loss: 0.2653 - val_accuracy: 0.9536\n",
            "Epoch 16/50\n",
            "23/23 [==============================] - 4s 193ms/step - loss: 0.0356 - accuracy: 0.9879 - val_loss: 0.1678 - val_accuracy: 0.9831\n",
            "Epoch 17/50\n",
            "23/23 [==============================] - 4s 193ms/step - loss: 0.0444 - accuracy: 0.9861 - val_loss: 0.1376 - val_accuracy: 0.9789\n",
            "Epoch 18/50\n",
            "23/23 [==============================] - 4s 194ms/step - loss: 0.1024 - accuracy: 0.9680 - val_loss: 0.1692 - val_accuracy: 0.9662\n",
            "Epoch 19/50\n",
            "23/23 [==============================] - 4s 194ms/step - loss: 0.0385 - accuracy: 0.9872 - val_loss: 0.1682 - val_accuracy: 0.9747\n",
            "Epoch 20/50\n",
            "23/23 [==============================] - 4s 192ms/step - loss: 0.0450 - accuracy: 0.9901 - val_loss: 0.1540 - val_accuracy: 0.9705\n",
            "Epoch 21/50\n",
            "23/23 [==============================] - 4s 194ms/step - loss: 0.0493 - accuracy: 0.9842 - val_loss: 0.1094 - val_accuracy: 0.9705\n",
            "Epoch 22/50\n",
            "23/23 [==============================] - 4s 192ms/step - loss: 0.0219 - accuracy: 0.9947 - val_loss: 0.0750 - val_accuracy: 0.9958\n",
            "Epoch 23/50\n",
            "23/23 [==============================] - 4s 196ms/step - loss: 0.0186 - accuracy: 0.9961 - val_loss: 0.1093 - val_accuracy: 0.9916\n",
            "Epoch 24/50\n",
            "23/23 [==============================] - 4s 194ms/step - loss: 0.0084 - accuracy: 0.9990 - val_loss: 0.0949 - val_accuracy: 0.9873\n",
            "Epoch 25/50\n",
            "23/23 [==============================] - 5s 198ms/step - loss: 0.0503 - accuracy: 0.9886 - val_loss: 0.1020 - val_accuracy: 0.9873\n",
            "Epoch 26/50\n",
            "23/23 [==============================] - 4s 195ms/step - loss: 0.0114 - accuracy: 0.9958 - val_loss: 0.1199 - val_accuracy: 0.9916\n",
            "Epoch 27/50\n",
            "23/23 [==============================] - 5s 196ms/step - loss: 0.0222 - accuracy: 0.9927 - val_loss: 0.1016 - val_accuracy: 0.9831\n",
            "Epoch 28/50\n",
            "23/23 [==============================] - 5s 197ms/step - loss: 0.0563 - accuracy: 0.9887 - val_loss: 0.1461 - val_accuracy: 0.9831\n",
            "Epoch 29/50\n",
            "23/23 [==============================] - 4s 196ms/step - loss: 0.0356 - accuracy: 0.9845 - val_loss: 0.1540 - val_accuracy: 0.9789\n",
            "Epoch 30/50\n",
            "23/23 [==============================] - 4s 195ms/step - loss: 0.0385 - accuracy: 0.9910 - val_loss: 0.1270 - val_accuracy: 0.9747\n",
            "Epoch 31/50\n",
            "23/23 [==============================] - 5s 196ms/step - loss: 0.0556 - accuracy: 0.9814 - val_loss: 0.1527 - val_accuracy: 0.9705\n",
            "Epoch 32/50\n",
            "23/23 [==============================] - 4s 195ms/step - loss: 0.1288 - accuracy: 0.9657 - val_loss: 0.2442 - val_accuracy: 0.9325\n",
            "Epoch 33/50\n",
            "23/23 [==============================] - 4s 196ms/step - loss: 0.0338 - accuracy: 0.9886 - val_loss: 0.1454 - val_accuracy: 0.9578\n",
            "Epoch 34/50\n",
            "23/23 [==============================] - 5s 197ms/step - loss: 0.0202 - accuracy: 0.9938 - val_loss: 0.1688 - val_accuracy: 0.9578\n",
            "Epoch 35/50\n",
            "23/23 [==============================] - 5s 197ms/step - loss: 0.0326 - accuracy: 0.9893 - val_loss: 0.2721 - val_accuracy: 0.9367\n",
            "Epoch 36/50\n",
            "23/23 [==============================] - 4s 196ms/step - loss: 0.0420 - accuracy: 0.9855 - val_loss: 0.1402 - val_accuracy: 0.9831\n",
            "Epoch 37/50\n",
            "23/23 [==============================] - 5s 198ms/step - loss: 0.0093 - accuracy: 0.9981 - val_loss: 0.1371 - val_accuracy: 0.9873\n",
            "Epoch 38/50\n",
            "23/23 [==============================] - 5s 197ms/step - loss: 0.0146 - accuracy: 0.9951 - val_loss: 0.1063 - val_accuracy: 0.9873\n",
            "Epoch 39/50\n",
            "23/23 [==============================] - 5s 197ms/step - loss: 0.0160 - accuracy: 0.9933 - val_loss: 0.1046 - val_accuracy: 0.9873\n",
            "Epoch 40/50\n",
            "23/23 [==============================] - 4s 196ms/step - loss: 0.0422 - accuracy: 0.9909 - val_loss: 0.4280 - val_accuracy: 0.9156\n",
            "Epoch 41/50\n",
            "23/23 [==============================] - 4s 195ms/step - loss: 0.0117 - accuracy: 0.9978 - val_loss: 0.3339 - val_accuracy: 0.9494\n",
            "Epoch 42/50\n",
            "23/23 [==============================] - 5s 197ms/step - loss: 0.0697 - accuracy: 0.9835 - val_loss: 0.2340 - val_accuracy: 0.9451\n",
            "Epoch 43/50\n",
            "23/23 [==============================] - 5s 198ms/step - loss: 0.0428 - accuracy: 0.9843 - val_loss: 0.2879 - val_accuracy: 0.9620\n",
            "Epoch 44/50\n",
            "23/23 [==============================] - 5s 196ms/step - loss: 0.0358 - accuracy: 0.9870 - val_loss: 0.1651 - val_accuracy: 0.9831\n",
            "Epoch 45/50\n",
            "23/23 [==============================] - 5s 199ms/step - loss: 0.0588 - accuracy: 0.9827 - val_loss: 0.1408 - val_accuracy: 0.9789\n",
            "Epoch 46/50\n",
            "23/23 [==============================] - 5s 197ms/step - loss: 0.0170 - accuracy: 0.9935 - val_loss: 0.1362 - val_accuracy: 0.9831\n",
            "Epoch 47/50\n",
            "23/23 [==============================] - 5s 198ms/step - loss: 0.0071 - accuracy: 0.9992 - val_loss: 0.1357 - val_accuracy: 0.9831\n",
            "Epoch 48/50\n",
            "23/23 [==============================] - 5s 201ms/step - loss: 0.0309 - accuracy: 0.9902 - val_loss: 0.1058 - val_accuracy: 0.9705\n",
            "Epoch 49/50\n",
            "23/23 [==============================] - 5s 200ms/step - loss: 0.0446 - accuracy: 0.9870 - val_loss: 0.1000 - val_accuracy: 0.9789\n",
            "Epoch 50/50\n",
            "23/23 [==============================] - 5s 203ms/step - loss: 0.0247 - accuracy: 0.9914 - val_loss: 0.1448 - val_accuracy: 0.9705\n"
          ],
          "name": "stdout"
        }
      ]
    },
    {
      "cell_type": "code",
      "metadata": {
        "id": "98_oXi-lcgux",
        "colab": {
          "base_uri": "https://localhost:8080/",
          "height": 590
        },
        "outputId": "50150912-c6a3-44a0-b51c-ee61eb08b562"
      },
      "source": [
        "import matplotlib.pyplot as plt\n",
        "\n",
        "print(H.history.keys())\n",
        "# summarize history for accuracy\n",
        "plt.plot(H.history['accuracy'])\n",
        "plt.plot(H.history['val_accuracy'])\n",
        "plt.title('model accuracy')\n",
        "plt.ylabel('accuracy')\n",
        "plt.xlabel('epoch')\n",
        "plt.legend(['train', 'test'], loc='upper left')\n",
        "plt.show()\n",
        "# summarize history for loss\n",
        "plt.plot(H.history['loss'])\n",
        "plt.plot(H.history['val_loss'])\n",
        "plt.title('model loss')\n",
        "plt.ylabel('loss')\n",
        "plt.xlabel('epoch')\n",
        "plt.legend(['train', 'test'], loc='upper left')\n",
        "plt.show()"
      ],
      "execution_count": 50,
      "outputs": [
        {
          "output_type": "stream",
          "text": [
            "dict_keys(['loss', 'accuracy', 'val_loss', 'val_accuracy'])\n"
          ],
          "name": "stdout"
        },
        {
          "output_type": "display_data",
          "data": {
            "image/png": "[encoded data removed]",
            "text/plain": [
              "<Figure size 432x288 with 1 Axes>"
            ]
          },
          "metadata": {
            "tags": [],
            "needs_background": "light"
          }
        },
        {
          "output_type": "display_data",
          "data": {
            "image/png": "[encoded data removed]",
            "text/plain": [
              "<Figure size 432x288 with 1 Axes>"
            ]
          },
          "metadata": {
            "tags": [],
            "needs_background": "light"
          }
        }
      ]
    },
    {
      "cell_type": "code",
      "metadata": {
        "id": "lPAZkmBJVGCD",
        "colab": {
          "base_uri": "https://localhost:8080/"
        },
        "outputId": "6aafa005-a083-46e5-e39f-d3c408eb707c"
      },
      "source": [
        "# evaluate the network\n",
        "print(\"[INFO] evaluating network...\")\n",
        "predictions = model.predict(testX, batch_size=32)\n",
        "print(classification_report(testY.argmax(axis=1),\n",
        "\tpredictions.argmax(axis=1), target_names=lb.classes_))"
      ],
      "execution_count": 46,
      "outputs": [
        {
          "output_type": "stream",
          "text": [
            "[INFO] evaluating network...\n",
            "              precision    recall  f1-score   support\n",
            "\n",
            "       coast       0.93      0.99      0.96        94\n",
            "      forest       0.99      0.99      0.99        77\n",
            "     highway       1.00      0.91      0.95        66\n",
            "\n",
            "    accuracy                           0.97       237\n",
            "   macro avg       0.97      0.96      0.97       237\n",
            "weighted avg       0.97      0.97      0.97       237\n",
            "\n"
          ],
          "name": "stdout"
        }
      ]
    },
    {
      "cell_type": "code",
      "metadata": {
        "id": "4uBcj8x8iwTw",
        "colab": {
          "base_uri": "https://localhost:8080/"
        },
        "outputId": "8b4950a0-1d93-4480-dacb-18a24d5f9c84"
      },
      "source": [
        "model.save('nnmodel_scene')"
      ],
      "execution_count": null,
      "outputs": [
        {
          "output_type": "stream",
          "text": [
            "WARNING:tensorflow:From /usr/local/lib/python3.6/dist-packages/tensorflow/python/training/tracking/tracking.py:111: Model.state_updates (from tensorflow.python.keras.engine.training) is deprecated and will be removed in a future version.\n",
            "Instructions for updating:\n",
            "This property should not be used in TensorFlow 2.0, as updates are applied automatically.\n",
            "WARNING:tensorflow:From /usr/local/lib/python3.6/dist-packages/tensorflow/python/training/tracking/tracking.py:111: Layer.updates (from tensorflow.python.keras.engine.base_layer) is deprecated and will be removed in a future version.\n",
            "Instructions for updating:\n",
            "This property should not be used in TensorFlow 2.0, as updates are applied automatically.\n",
            "INFO:tensorflow:Assets written to: nnmodel_scene/assets\n"
          ],
          "name": "stdout"
        }
      ]
    },
    {
      "cell_type": "code",
      "metadata": {
        "id": "AOwJT2jLVGCN"
      },
      "source": [
        "import cv2\n",
        "import matplotlib.pyplot as plt\n",
        "image1='forest_test.jpg'"
      ],
      "execution_count": null,
      "outputs": []
    },
    {
      "cell_type": "code",
      "metadata": {
        "id": "PkM68K4GVGCP"
      },
      "source": [
        "img_array = cv2.imread(image1)\n",
        "plt.imshow(img_array)\n",
        "plt.show()\n",
        "# print(type(img_array))"
      ],
      "execution_count": null,
      "outputs": []
    },
    {
      "cell_type": "code",
      "metadata": {
        "id": "1ZkNY8LWVGCR",
        "colab": {
          "base_uri": "https://localhost:8080/"
        },
        "outputId": "bf3c8c5e-edb1-4a0d-c6a8-ced21de31294"
      },
      "source": [
        "image_testing = Image.open('forest_test.jpg')\n",
        "image_testing = np.array(image_testing.resize((64, 64))) / 255.0\n",
        "image_testing.shape"
      ],
      "execution_count": null,
      "outputs": [
        {
          "output_type": "execute_result",
          "data": {
            "text/plain": [
              "(64, 64, 3)"
            ]
          },
          "metadata": {
            "tags": []
          },
          "execution_count": 18
        }
      ]
    },
    {
      "cell_type": "code",
      "metadata": {
        "id": "qL66nfOcVGCT",
        "colab": {
          "base_uri": "https://localhost:8080/"
        },
        "outputId": "670b3faa-d7fa-4bc3-f841-ed09a120920f"
      },
      "source": [
        "image_testing = np.expand_dims(image_testing, axis=0)\n",
        "print(image_testing.shape)"
      ],
      "execution_count": null,
      "outputs": [
        {
          "output_type": "stream",
          "text": [
            "(1, 64, 64, 3)\n"
          ],
          "name": "stdout"
        }
      ]
    },
    {
      "cell_type": "code",
      "metadata": {
        "id": "vTy9yP1AVGCV",
        "colab": {
          "base_uri": "https://localhost:8080/"
        },
        "outputId": "e557dae1-6719-4c4d-83ce-8bbd829436d7"
      },
      "source": [
        "output = model.predict(image_testing, 1)\n",
        "print(output)\n",
        "print(lb.classes_[output.argmax(axis=1)])"
      ],
      "execution_count": null,
      "outputs": [
        {
          "output_type": "stream",
          "text": [
            "WARNING:tensorflow:Model was constructed with shape (None, 12288) for input Tensor(\"flatten_input:0\", shape=(None, 12288), dtype=float32), but it was called on an input with incompatible shape (1, 64, 64, 3).\n",
            "[[0.2624806  0.5831592  0.15436009]]\n",
            "['forest']\n"
          ],
          "name": "stdout"
        }
      ]
    },
    {
      "cell_type": "code",
      "metadata": {
        "id": "cu5SSxXyiOs3"
      },
      "source": [
        ""
      ],
      "execution_count": null,
      "outputs": []
    }
  ]
}