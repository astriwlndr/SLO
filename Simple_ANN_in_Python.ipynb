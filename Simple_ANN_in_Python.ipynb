{
  "nbformat": 4,
  "nbformat_minor": 0,
  "metadata": {
    "colab": {
      "name": "Simple ANN in Python.ipynb",
      "provenance": [],
      "authorship_tag": "ABX9TyOw1zHppB8J+xQqwogi7K17",
      "include_colab_link": true
    },
    "kernelspec": {
      "name": "python3",
      "display_name": "Python 3"
    }
  },
  "cells": [
    {
      "cell_type": "markdown",
      "metadata": {
        "id": "view-in-github",
        "colab_type": "text"
      },
      "source": [
        "<a href=\"https://colab.research.google.com/github/syamsulrizal123/SLO/blob/main/Simple_ANN_in_Python.ipynb\" target=\"_parent\"><img src=\"https://colab.research.google.com/assets/colab-badge.svg\" alt=\"Open In Colab\"/></a>"
      ]
    },
    {
      "cell_type": "code",
      "metadata": {
        "id": "6wZgJI-d3F8w"
      },
      "source": [
        "import numpy as np"
      ],
      "execution_count": null,
      "outputs": []
    },
    {
      "cell_type": "code",
      "metadata": {
        "id": "DpcedqG63VS8"
      },
      "source": [
        "def sigmoid(x):\n",
        "  return 1/(1+np.exp(-x))"
      ],
      "execution_count": null,
      "outputs": []
    },
    {
      "cell_type": "code",
      "metadata": {
        "id": "BnvMvgUApKd-"
      },
      "source": [
        "def sigmoid_derivative(x):\n",
        "  return x * (1 - x)"
      ],
      "execution_count": null,
      "outputs": []
    },
    {
      "cell_type": "code",
      "metadata": {
        "id": "Z_wkXwNf3eBX",
        "colab": {
          "base_uri": "https://localhost:8080/",
          "height": 85
        },
        "outputId": "be5b3180-68a8-4dd8-dfbb-9fc891483694"
      },
      "source": [
        "training_inputs = np.array([[0,0,1],\n",
        "                            [1,1,1],\n",
        "                            [1,0,1],\n",
        "                            [0,1,1]])\n",
        "training_inputs"
      ],
      "execution_count": null,
      "outputs": [
        {
          "output_type": "execute_result",
          "data": {
            "text/plain": [
              "array([[0, 0, 1],\n",
              "       [1, 1, 1],\n",
              "       [1, 0, 1],\n",
              "       [0, 1, 1]])"
            ]
          },
          "metadata": {
            "tags": []
          },
          "execution_count": 3
        }
      ]
    },
    {
      "cell_type": "code",
      "metadata": {
        "id": "5CSu8Vts324e",
        "colab": {
          "base_uri": "https://localhost:8080/",
          "height": 85
        },
        "outputId": "50a7d157-2a0a-4706-9798-c23bf501bc73"
      },
      "source": [
        "training_outputs = np.array([[0,1,1,0]]).T\n",
        "training_outputs"
      ],
      "execution_count": null,
      "outputs": [
        {
          "output_type": "execute_result",
          "data": {
            "text/plain": [
              "array([[0],\n",
              "       [1],\n",
              "       [1],\n",
              "       [0]])"
            ]
          },
          "metadata": {
            "tags": []
          },
          "execution_count": 4
        }
      ]
    },
    {
      "cell_type": "code",
      "metadata": {
        "id": "aPv_rnfq33Ua",
        "colab": {
          "base_uri": "https://localhost:8080/",
          "height": 68
        },
        "outputId": "90cfd371-f8f0-42a0-8f20-60b70d16a365"
      },
      "source": [
        "np.random.seed(1)\n",
        "synaptic_weights = 2 * np.random.random((3, 1)) -1\n",
        "synaptic_weights"
      ],
      "execution_count": null,
      "outputs": [
        {
          "output_type": "execute_result",
          "data": {
            "text/plain": [
              "array([[-0.16595599],\n",
              "       [ 0.44064899],\n",
              "       [-0.99977125]])"
            ]
          },
          "metadata": {
            "tags": []
          },
          "execution_count": 5
        }
      ]
    },
    {
      "cell_type": "code",
      "metadata": {
        "id": "owJjR6LJUdMw"
      },
      "source": [
        "for iteration in range(1):\n",
        "  input_layer = training_inputs\n",
        "  outputs = sigmoid(np.dot(input_layer, synaptic_weights))\n",
        "print('outpus after training: ')\n",
        "print(outputs)"
      ],
      "execution_count": null,
      "outputs": []
    },
    {
      "cell_type": "code",
      "metadata": {
        "id": "qXYUdX0O4p1k",
        "colab": {
          "base_uri": "https://localhost:8080/",
          "height": 170
        },
        "outputId": "a4443e8c-a95b-4d29-e7de-875aa363071c"
      },
      "source": [
        "for iteration in range(20000):\n",
        "  #Forward Propagation\n",
        "  input_layer = training_inputs\n",
        "  outputs=sigmoid(np.dot(input_layer, synaptic_weights))\n",
        "\n",
        "  error = training_outputs - outputs\n",
        "  \n",
        "  #Backpropagation\n",
        "  adjustments = error * sigmoid_derivative(outputs)\n",
        "\n",
        "  synaptic_weights += np.dot(input_layer.T, adjustments)\n",
        "\n",
        "print('Synaptic Weights after training')\n",
        "print(synaptic_weights)\n",
        "\n",
        "print('Output after training')\n",
        "print(outputs)\n"
      ],
      "execution_count": null,
      "outputs": [
        {
          "output_type": "stream",
          "text": [
            "Synaptic Weights after training\n",
            "[[11.49345763]\n",
            " [-0.2048909 ]\n",
            " [-5.54227641]]\n",
            "Output after training\n",
            "[[0.00390234]\n",
            " [0.99681554]\n",
            " [0.99740397]\n",
            " [0.00318168]]\n"
          ],
          "name": "stdout"
        }
      ]
    },
    {
      "cell_type": "code",
      "metadata": {
        "id": "aHEFuokJ5ARm",
        "colab": {
          "base_uri": "https://localhost:8080/",
          "height": 85
        },
        "outputId": "83516438-a8ae-4857-c233-916ca4eeab1a"
      },
      "source": [
        "for j in outputs:\n",
        "  print(np.around(j))"
      ],
      "execution_count": null,
      "outputs": [
        {
          "output_type": "stream",
          "text": [
            "[0.]\n",
            "[1.]\n",
            "[1.]\n",
            "[0.]\n"
          ],
          "name": "stdout"
        }
      ]
    },
    {
      "cell_type": "code",
      "metadata": {
        "id": "s9QGObVXqodz"
      },
      "source": [
        ""
      ],
      "execution_count": null,
      "outputs": []
    }
  ]
}